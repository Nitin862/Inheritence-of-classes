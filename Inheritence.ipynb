{
 "cells": [
  {
   "cell_type": "code",
   "execution_count": 1,
   "id": "6471577c-d1f0-49ef-9031-bddac6b45146",
   "metadata": {},
   "outputs": [
    {
     "data": {
      "text/plain": [
       "'1.Q1. Explain Class and Object with respect to Object-Oriented Programming. Give a suitable example.'"
      ]
     },
     "execution_count": 1,
     "metadata": {},
     "output_type": "execute_result"
    }
   ],
   "source": [
    "'''1.Q1. Explain Class and Object with respect to Object-Oriented Programming. Give a suitable example.'''"
   ]
  },
  {
   "cell_type": "code",
   "execution_count": 2,
   "id": "65d1e701-ff9b-4b49-8567-ec51678fd3b6",
   "metadata": {},
   "outputs": [
    {
     "data": {
      "text/plain": [
       "\"In Object-Oriented Programming (OOP), a class is a blueprint for creating objects. It defines a set of attributes\\nand methods that the created objects will have. An object is an instance of a class; it contains actual values instead of\\nvariables and can perform actions defined by the class methods.\\n\\nClass\\nDefinition: A class is a user-defined data type that serves as a template for creating objects.\\nAttributes: Variables that hold data related to the object.\\nMethods: Functions defined within a class that describe the behaviors of the objects created from the class.\\nObject\\nDefinition: An object is an instance of a class. When a class is defined, no memory is allocated until an object of that class is created.\\nAttributes: Hold specific data for the object.\\nMethods: Can be called to perform operations using the object's data.\""
      ]
     },
     "execution_count": 2,
     "metadata": {},
     "output_type": "execute_result"
    }
   ],
   "source": [
    "'''In Object-Oriented Programming (OOP), a class is a blueprint for creating objects. It defines a set of attributes\n",
    "and methods that the created objects will have. An object is an instance of a class; it contains actual values instead of\n",
    "variables and can perform actions defined by the class methods.\n",
    "\n",
    "Class\n",
    "Definition: A class is a user-defined data type that serves as a template for creating objects.\n",
    "Attributes: Variables that hold data related to the object.\n",
    "Methods: Functions defined within a class that describe the behaviors of the objects created from the class.\n",
    "Object\n",
    "Definition: An object is an instance of a class. When a class is defined, no memory is allocated until an object of that class is created.\n",
    "Attributes: Hold specific data for the object.\n",
    "Methods: Can be called to perform operations using the object's data.'''"
   ]
  },
  {
   "cell_type": "code",
   "execution_count": 3,
   "id": "2981a0f7-4b14-4723-8eb4-6d487723c6a4",
   "metadata": {},
   "outputs": [
    {
     "name": "stdout",
     "output_type": "stream",
     "text": [
      "2020 Toyota Corolla\n",
      "2018 Honda Civic\n"
     ]
    }
   ],
   "source": [
    "class Car:\n",
    "    def __init__(self, make, model, year):\n",
    "        self.make = make\n",
    "        self.model = model\n",
    "        self.year = year\n",
    "\n",
    "    def display_info(self):\n",
    "        print(f\"{self.year} {self.make} {self.model}\")\n",
    "\n",
    "# Creating objects of the Car class\n",
    "car1 = Car(\"Toyota\", \"Corolla\", 2020)\n",
    "car2 = Car(\"Honda\", \"Civic\", 2018)\n",
    "\n",
    "# Accessing attributes and methods of the objects\n",
    "car1.display_info()  # Output: 2020 Toyota Corolla\n",
    "car2.display_info()  # Output: 2018 Honda Civic\n"
   ]
  },
  {
   "cell_type": "code",
   "execution_count": 4,
   "id": "85729c77-0850-4aa0-8c4a-6fe4bcaca7d4",
   "metadata": {},
   "outputs": [
    {
     "data": {
      "text/plain": [
       "'2.Q2. Name the four pillars of OOPs.'"
      ]
     },
     "execution_count": 4,
     "metadata": {},
     "output_type": "execute_result"
    }
   ],
   "source": [
    "'''2.Q2. Name the four pillars of OOPs.'''"
   ]
  },
  {
   "cell_type": "code",
   "execution_count": 5,
   "id": "cfae0005-06ea-4484-a9d8-f87db3e42933",
   "metadata": {},
   "outputs": [
    {
     "data": {
      "text/plain": [
       "\"Encapsulation:\\n\\nEncapsulation is the concept of wrapping data (attributes) and methods (functions) that operate on the data into a single unit, called a class. \\nIt restricts direct access to some of an object's components,\\nwhich can prevent the accidental modification of data. Encapsulation is achieved using access modifiers like private, protected, and public.\\n2.Inheritance:\\n\\nInheritance is a mechanism where a new class (derived class) inherits attributes and methods from an existing class (base class).\\nIt promotes code reusability and establishes a relationship between classes.\\n3.Polymorphism:\\n\\nPolymorphism allows methods to do different things based on the object it is acting upon, even though they share the same name. \\nIt can be achieved through method overriding (inherited classes) or method overloading (multiple methods in the same class with different\\nparameters).\\n4.Abstraction:\\n\\nAbstraction is the concept of hiding the complex implementation details and showing only the essential features of the object. \\nIt helps in reducing complexity and allows the programmer to focus on interactions at a higher level.\""
      ]
     },
     "execution_count": 5,
     "metadata": {},
     "output_type": "execute_result"
    }
   ],
   "source": [
    "'''Encapsulation:\n",
    "\n",
    "Encapsulation is the concept of wrapping data (attributes) and methods (functions) that operate on the data into a single unit, called a class. \n",
    "It restricts direct access to some of an object's components,\n",
    "which can prevent the accidental modification of data. Encapsulation is achieved using access modifiers like private, protected, and public.\n",
    "2.Inheritance:\n",
    "\n",
    "Inheritance is a mechanism where a new class (derived class) inherits attributes and methods from an existing class (base class).\n",
    "It promotes code reusability and establishes a relationship between classes.\n",
    "3.Polymorphism:\n",
    "\n",
    "Polymorphism allows methods to do different things based on the object it is acting upon, even though they share the same name. \n",
    "It can be achieved through method overriding (inherited classes) or method overloading (multiple methods in the same class with different\n",
    "parameters).\n",
    "4.Abstraction:\n",
    "\n",
    "Abstraction is the concept of hiding the complex implementation details and showing only the essential features of the object. \n",
    "It helps in reducing complexity and allows the programmer to focus on interactions at a higher level.'''"
   ]
  },
  {
   "cell_type": "code",
   "execution_count": 6,
   "id": "fc9db815-8d61-4d8f-a74e-f1259512a213",
   "metadata": {},
   "outputs": [
    {
     "data": {
      "text/plain": [
       "'Q3. Explain why the __init__() function is used. Give a suitable example.'"
      ]
     },
     "execution_count": 6,
     "metadata": {},
     "output_type": "execute_result"
    }
   ],
   "source": [
    "'''Q3. Explain why the __init__() function is used. Give a suitable example.'''"
   ]
  },
  {
   "cell_type": "code",
   "execution_count": 7,
   "id": "f5970b51-e0e3-473b-b3c9-1638a90b2801",
   "metadata": {},
   "outputs": [
    {
     "data": {
      "text/plain": [
       "'self represents the instance of the class. By using the “self” we can access the attributes and methods of the class in python. \\nIt binds the attributes with the given arguments.\\n\\nThe reason we need to use self. is because Python does not use the\\n@ syntax to refer to instance attributes. Python decided to do methods in a way that makes the instance to which the method belongs be\\npassed automatically, but not received automatically: the first parameter of methods is the instance the method is called on.\\n\\nIn more clear way you can say that self has following Characteristic-\\n\\nself is always pointing to Current Object.\\nself is the first argument to be passed in Constructor and Instance Method.\\nself must be provided as a First parameter to the Instance method and constructor. If you don’t provide it, it will cause an error.\\nself is a convention and not a Python keyword.\\nself is parameter in Instance Method and user can use another parameter name in place of it. But it is advisable to use self because it\\nincreases the readability of code, and it is also a good programming practice.'"
      ]
     },
     "execution_count": 7,
     "metadata": {},
     "output_type": "execute_result"
    }
   ],
   "source": [
    "'''self represents the instance of the class. By using the “self” we can access the attributes and methods of the class in python. \n",
    "It binds the attributes with the given arguments.\n",
    "\n",
    "The reason we need to use self. is because Python does not use the\n",
    "@ syntax to refer to instance attributes. Python decided to do methods in a way that makes the instance to which the method belongs be\n",
    "passed automatically, but not received automatically: the first parameter of methods is the instance the method is called on.\n",
    "\n",
    "In more clear way you can say that self has following Characteristic-\n",
    "\n",
    "self is always pointing to Current Object.\n",
    "self is the first argument to be passed in Constructor and Instance Method.\n",
    "self must be provided as a First parameter to the Instance method and constructor. If you don’t provide it, it will cause an error.\n",
    "self is a convention and not a Python keyword.\n",
    "self is parameter in Instance Method and user can use another parameter name in place of it. But it is advisable to use self because it\n",
    "increases the readability of code, and it is also a good programming practice.'''"
   ]
  },
  {
   "cell_type": "code",
   "execution_count": 8,
   "id": "1bd536f2-3d12-4944-89b9-488ec2ba515c",
   "metadata": {},
   "outputs": [
    {
     "name": "stdout",
     "output_type": "stream",
     "text": [
      "Name: Nitin, Age: 20, City: Patna\n"
     ]
    }
   ],
   "source": [
    "class Person:\n",
    "    def __init__(self, name, age, city):\n",
    "        self.name = name  # Initializing the name attribute\n",
    "        self.age = age    # Initializing the age attribute\n",
    "        self.city = city  # Initializing the city attribute\n",
    "\n",
    "    def display_info(self):\n",
    "        print(f\"Name: {self.name}, Age: {self.age}, City: {self.city}\")\n",
    "\n",
    "# Creating an object of the Person class\n",
    "person1 = Person(\"Nitin\", 20, \"Patna\")\n",
    "\n",
    "# Accessing the attributes and methods\n",
    "person1.display_info()  # Output: Name: Alice, Age: 30, City: New York\n"
   ]
  },
  {
   "cell_type": "code",
   "execution_count": 9,
   "id": "97ea8a4b-4100-4494-a97a-87bac0bab929",
   "metadata": {},
   "outputs": [
    {
     "data": {
      "text/plain": [
       "'4.Q4. Why self is used in OOPs?'"
      ]
     },
     "execution_count": 9,
     "metadata": {},
     "output_type": "execute_result"
    }
   ],
   "source": [
    "'''4.Q4. Why self is used in OOPs?'''"
   ]
  },
  {
   "cell_type": "code",
   "execution_count": 10,
   "id": "87418077-28cf-4883-bee6-6bf86d1f1dcf",
   "metadata": {},
   "outputs": [
    {
     "data": {
      "text/plain": [
       "\"In Object-Oriented Programming (OOP), self is a reference to the current instance of the class. It is used within a class\\nto refer to the instance variables and methods of the class. Here are the main reasons why self is used in OOP:\\n\\nInstance Differentiation:\\n\\nself allows each object to keep track of its own data. When you use self, you are working with the instance-specific data, ensuring that\\nchanges to the object's attributes don't affect other instances of the class.\\nAttribute and Method Access:\\n\\nUsing self inside a method allows you to access and modify the attributes and other methods of the object. This makes it possible to\\ndefine behavior that is specific to each instance.\\nMethod Binding:\\n\\nMethods in a class need to be bound to the instance of the class, and self is the mechanism by which this binding occurs.\\nWhen you define a method, you include self as the first parameter so that Python knows it belongs to the instance.\\nExplicitness:\\n\\nself makes the code more readable and explicit, as it is clear which variables are instance variables and which are local variables.\""
      ]
     },
     "execution_count": 10,
     "metadata": {},
     "output_type": "execute_result"
    }
   ],
   "source": [
    "'''In Object-Oriented Programming (OOP), self is a reference to the current instance of the class. It is used within a class\n",
    "to refer to the instance variables and methods of the class. Here are the main reasons why self is used in OOP:\n",
    "\n",
    "Instance Differentiation:\n",
    "\n",
    "self allows each object to keep track of its own data. When you use self, you are working with the instance-specific data, ensuring that\n",
    "changes to the object's attributes don't affect other instances of the class.\n",
    "Attribute and Method Access:\n",
    "\n",
    "Using self inside a method allows you to access and modify the attributes and other methods of the object. This makes it possible to\n",
    "define behavior that is specific to each instance.\n",
    "Method Binding:\n",
    "\n",
    "Methods in a class need to be bound to the instance of the class, and self is the mechanism by which this binding occurs.\n",
    "When you define a method, you include self as the first parameter so that Python knows it belongs to the instance.\n",
    "Explicitness:\n",
    "\n",
    "self makes the code more readable and explicit, as it is clear which variables are instance variables and which are local variables.'''"
   ]
  },
  {
   "cell_type": "code",
   "execution_count": 11,
   "id": "ff9507db-c327-406b-8fd5-97b066f9f484",
   "metadata": {},
   "outputs": [
    {
     "data": {
      "text/plain": [
       "'Q5. What is inheritance? Give an example for each type of inheritance.'"
      ]
     },
     "execution_count": 11,
     "metadata": {},
     "output_type": "execute_result"
    }
   ],
   "source": [
    "'''Q5. What is inheritance? Give an example for each type of inheritance.'''"
   ]
  },
  {
   "cell_type": "code",
   "execution_count": 12,
   "id": "1ede0719-2a95-4c5b-8d81-1192e6010efa",
   "metadata": {},
   "outputs": [
    {
     "data": {
      "text/plain": [
       "'Single Inheritance:\\nSimple inheritance where a derived class inherits from one base class.\\nMultiple Inheritance:\\nA class can inherit from multiple classes, thus combining their features.\\nMultilevel Inheritance:\\nCreates a hierarchy where a class inherits from another derived class.\\nHierarchical Inheritance:\\nMultiple classes inherit from a single base class, creating a tree structure.\\nHybrid Inheritance:\\nA mix of two or more inheritance types, showing complex relationships.\\nInheritance helps in building a clear structure, promoting code reuse, and making the code easier to manage and extend.'"
      ]
     },
     "execution_count": 12,
     "metadata": {},
     "output_type": "execute_result"
    }
   ],
   "source": [
    "'''Single Inheritance:\n",
    "Simple inheritance where a derived class inherits from one base class.\n",
    "Multiple Inheritance:\n",
    "A class can inherit from multiple classes, thus combining their features.\n",
    "Multilevel Inheritance:\n",
    "Creates a hierarchy where a class inherits from another derived class.\n",
    "Hierarchical Inheritance:\n",
    "Multiple classes inherit from a single base class, creating a tree structure.\n",
    "Hybrid Inheritance:\n",
    "A mix of two or more inheritance types, showing complex relationships.\n",
    "Inheritance helps in building a clear structure, promoting code reuse, and making the code easier to manage and extend.'''"
   ]
  },
  {
   "cell_type": "code",
   "execution_count": 18,
   "id": "2eb2e836-e6e3-41e8-bd2d-346ec3353c32",
   "metadata": {},
   "outputs": [
    {
     "name": "stdout",
     "output_type": "stream",
     "text": [
      "Woof!\n"
     ]
    }
   ],
   "source": [
    "#single inheritence\n",
    "class Animal:\n",
    "    def __init__(self, name):\n",
    "        self.name = name\n",
    "\n",
    "    def speak(self):\n",
    "        pass\n",
    "\n",
    "class Dog(Animal):\n",
    "    def speak(self):\n",
    "        return \"Woof!\"\n",
    "\n",
    "dog = Dog(\"Buddy\")\n",
    "print(dog.speak())  \n",
    "\n",
    "\n",
    " \n"
   ]
  },
  {
   "cell_type": "code",
   "execution_count": 15,
   "id": "2c3a9cd7-d89c-4df2-9396-7fbdb7e48ca4",
   "metadata": {},
   "outputs": [
    {
     "name": "stdout",
     "output_type": "stream",
     "text": [
      "Engine started\n",
      "Car is driving\n",
      "Toyota\n",
      "Corolla\n"
     ]
    }
   ],
   "source": [
    "#Hybrid Inheritance:\n",
    "class Engine:\n",
    "    def start(self):\n",
    "        return \"Engine started\"\n",
    "\n",
    "class Vehicle:\n",
    "    def __init__(self, make, model):\n",
    "        self.make = make\n",
    "        self.model = model\n",
    "\n",
    "class Car(Vehicle, Engine):\n",
    "    def drive(self):\n",
    "        return \"Car is driving\"\n",
    "\n",
    "car = Car(\"Toyota\", \"Corolla\")\n",
    "print(car.start())      # Output: Engine started\n",
    "print(car.drive())      # Output: Car is driving\n",
    "print(car.make)         # Output: Toyota\n",
    "print(car.model)        # Output: Corolla\n"
   ]
  },
  {
   "cell_type": "code",
   "execution_count": 17,
   "id": "68e11dd7-0776-401d-a60c-370fea1373e5",
   "metadata": {},
   "outputs": [
    {
     "name": "stdout",
     "output_type": "stream",
     "text": [
      "Buddy\n",
      "True\n",
      "Golden Retriever\n"
     ]
    }
   ],
   "source": [
    "#Multilevel Inheritance:\n",
    "class Animal:\n",
    "    def __init__(self, name):\n",
    "        self.name = name\n",
    "\n",
    "class Mammal(Animal):\n",
    "    def __init__(self, name, has_fur):\n",
    "        super().__init__(name)\n",
    "        self.has_fur = has_fur\n",
    "\n",
    "class Dog(Mammal):\n",
    "    def __init__(self, name, has_fur, breed):\n",
    "        super().__init__(name, has_fur)\n",
    "        self.breed = breed\n",
    "\n",
    "dog = Dog(\"Buddy\", True, \"Golden Retriever\")\n",
    "print(dog.name)    # Output: Buddy\n",
    "print(dog.has_fur) # Output: True\n",
    "print(dog.breed)   # Output: Golden Retriever\n"
   ]
  },
  {
   "cell_type": "code",
   "execution_count": 19,
   "id": "e3807328-b8cb-4a5f-afcb-48fe71b50aa9",
   "metadata": {},
   "outputs": [
    {
     "name": "stdout",
     "output_type": "stream",
     "text": [
      "Woof!\n",
      "Meow!\n"
     ]
    }
   ],
   "source": [
    "#Hierarchical Inheritance:\n",
    "class Animal:\n",
    "    def __init__(self, name):\n",
    "        self.name = name\n",
    "\n",
    "class Dog(Animal):\n",
    "    def speak(self):\n",
    "        return \"Woof!\"\n",
    "\n",
    "class Cat(Animal):\n",
    "    def speak(self):\n",
    "        return \"Meow!\"\n",
    "\n",
    "dog = Dog(\"Buddy\")\n",
    "cat = Cat(\"Whiskers\")\n",
    "print(dog.speak())  # Output: Woof!\n",
    "print(cat.speak())  # Output: Meow!\n"
   ]
  },
  {
   "cell_type": "code",
   "execution_count": null,
   "id": "de65646d-2136-4bef-952f-d72fb5a30383",
   "metadata": {},
   "outputs": [],
   "source": []
  }
 ],
 "metadata": {
  "kernelspec": {
   "display_name": "Python 3 (ipykernel)",
   "language": "python",
   "name": "python3"
  },
  "language_info": {
   "codemirror_mode": {
    "name": "ipython",
    "version": 3
   },
   "file_extension": ".py",
   "mimetype": "text/x-python",
   "name": "python",
   "nbconvert_exporter": "python",
   "pygments_lexer": "ipython3",
   "version": "3.10.8"
  }
 },
 "nbformat": 4,
 "nbformat_minor": 5
}
