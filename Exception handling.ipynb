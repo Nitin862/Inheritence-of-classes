{
 "cells": [
  {
   "cell_type": "code",
   "execution_count": 1,
   "id": "bc464676-0be7-4a23-8711-a8837484e345",
   "metadata": {},
   "outputs": [
    {
     "data": {
      "text/plain": [
       "'Question 1: What is an exception in python? Write the difference between Exceptions and syntax errors.'"
      ]
     },
     "execution_count": 1,
     "metadata": {},
     "output_type": "execute_result"
    }
   ],
   "source": [
    "'''Question 1: What is an exception in python? Write the difference between Exceptions and syntax errors.'''"
   ]
  },
  {
   "cell_type": "code",
   "execution_count": 2,
   "id": "b036549e-06d8-4ff4-9ff1-5105d6787a55",
   "metadata": {},
   "outputs": [
    {
     "data": {
      "text/plain": [
       "\"In Python, an exception is an event that occurs during the execution of a program that disrupts the normal flow of instructions.\\nWhen an exception occurs, Python generates an object that represents the error,\\nwhich can then be handled by the program.\\n\\nExceptions in Python can be caused by a variety of factors, such as dividing by zero, referencing a non-existent variable, \\nor opening a file that doesn't exist. Some common exceptions in Python include TypeError, ValueError, and IOError.\\n\\nSyntax errors, on the other hand, are errors that occur when the Python interpreter cannot understand the code that has been written. \\nSyntax errors are usually caused by spelling mistakes, missing punctuation, or incorrect use of Python syntax. Unlike exceptions, which occur\\nduring the execution of the program, syntax errors prevent the program from running at all.\\n\\nThe key difference between exceptions and syntax errors is that exceptions occur during the execution of a program, while syntax errors occur \\nbefore the program is executed. Exceptions can be handled with try-except blocks, which allow the program to continue running despite the error, \\nwhile syntax errors must be fixed before the program can be executed.\""
      ]
     },
     "execution_count": 2,
     "metadata": {},
     "output_type": "execute_result"
    }
   ],
   "source": [
    "'''In Python, an exception is an event that occurs during the execution of a program that disrupts the normal flow of instructions.\n",
    "When an exception occurs, Python generates an object that represents the error,\n",
    "which can then be handled by the program.\n",
    "\n",
    "Exceptions in Python can be caused by a variety of factors, such as dividing by zero, referencing a non-existent variable, \n",
    "or opening a file that doesn't exist. Some common exceptions in Python include TypeError, ValueError, and IOError.\n",
    "\n",
    "Syntax errors, on the other hand, are errors that occur when the Python interpreter cannot understand the code that has been written. \n",
    "Syntax errors are usually caused by spelling mistakes, missing punctuation, or incorrect use of Python syntax. Unlike exceptions, which occur\n",
    "during the execution of the program, syntax errors prevent the program from running at all.\n",
    "\n",
    "The key difference between exceptions and syntax errors is that exceptions occur during the execution of a program, while syntax errors occur \n",
    "before the program is executed. Exceptions can be handled with try-except blocks, which allow the program to continue running despite the error, \n",
    "while syntax errors must be fixed before the program can be executed.'''"
   ]
  },
  {
   "cell_type": "code",
   "execution_count": 3,
   "id": "98cfd236-129a-4904-a167-9947a2714b0a",
   "metadata": {},
   "outputs": [
    {
     "data": {
      "text/plain": [
       "'2: What happens if exception is not handled? Explain with an example.'"
      ]
     },
     "execution_count": 3,
     "metadata": {},
     "output_type": "execute_result"
    }
   ],
   "source": [
    "'''2: What happens if exception is not handled? Explain with an example.'''"
   ]
  },
  {
   "cell_type": "code",
   "execution_count": 4,
   "id": "da11d672-c222-4136-8b75-419d50e93f11",
   "metadata": {},
   "outputs": [
    {
     "data": {
      "text/plain": [
       "\"If an exception is not handled in a Python program, it will cause the program to terminate abruptly \\nand display an error message indicating the type of exception that occurred.\\n\\nFor example, let's consider a Python program that attempts to open a file:\""
      ]
     },
     "execution_count": 4,
     "metadata": {},
     "output_type": "execute_result"
    }
   ],
   "source": [
    "'''If an exception is not handled in a Python program, it will cause the program to terminate abruptly \n",
    "and display an error message indicating the type of exception that occurred.\n",
    "\n",
    "For example, let's consider a Python program that attempts to open a file:'''"
   ]
  },
  {
   "cell_type": "code",
   "execution_count": 5,
   "id": "919ddcb0-80cd-4b38-ab88-04f923ffc110",
   "metadata": {},
   "outputs": [
    {
     "name": "stdout",
     "output_type": "stream",
     "text": [
      "this block handles error \n"
     ]
    }
   ],
   "source": [
    "try :\n",
    "    f=open(\"asd.txt\",\"r\")\n",
    "    \n",
    "except :\n",
    "    print(\"this block handles error \")"
   ]
  },
  {
   "cell_type": "code",
   "execution_count": 6,
   "id": "91004aa7-4adc-49d5-b20d-80bfbd6f2fc6",
   "metadata": {},
   "outputs": [
    {
     "data": {
      "text/plain": [
       "'\\nIn this program, \\nthe code inside the try block attempts to open a file named \"example.txt\" in read mode. If the file does not exist or\\ncannot be opened for some reason, an exception will be raised.\\n\\nIn the except block, we have a simple error handling mechanism that prints a generic error message if an exception occurs.\\nThis allows the program to continue running, even if the file cannot be opened.\\n\\nHowever, if we remove the except block from the program, the exception will not be handled, and the program will terminate \\nabruptly with an error message'"
      ]
     },
     "execution_count": 6,
     "metadata": {},
     "output_type": "execute_result"
    }
   ],
   "source": [
    "'''\n",
    "In this program, \n",
    "the code inside the try block attempts to open a file named \"example.txt\" in read mode. If the file does not exist or\n",
    "cannot be opened for some reason, an exception will be raised.\n",
    "\n",
    "In the except block, we have a simple error handling mechanism that prints a generic error message if an exception occurs.\n",
    "This allows the program to continue running, even if the file cannot be opened.\n",
    "\n",
    "However, if we remove the except block from the program, the exception will not be handled, and the program will terminate \n",
    "abruptly with an error message'''"
   ]
  },
  {
   "cell_type": "code",
   "execution_count": 7,
   "id": "fa449fc7-f8b2-4428-8c39-abc75a69562c",
   "metadata": {},
   "outputs": [
    {
     "ename": "FileNotFoundError",
     "evalue": "[Errno 2] No such file or directory: 'asd.txt'",
     "output_type": "error",
     "traceback": [
      "\u001b[0;31m---------------------------------------------------------------------------\u001b[0m",
      "\u001b[0;31mFileNotFoundError\u001b[0m                         Traceback (most recent call last)",
      "Cell \u001b[0;32mIn[7], line 1\u001b[0m\n\u001b[0;32m----> 1\u001b[0m f\u001b[38;5;241m=\u001b[39m\u001b[38;5;28;43mopen\u001b[39;49m\u001b[43m(\u001b[49m\u001b[38;5;124;43m\"\u001b[39;49m\u001b[38;5;124;43masd.txt\u001b[39;49m\u001b[38;5;124;43m\"\u001b[39;49m\u001b[43m,\u001b[49m\u001b[38;5;124;43m\"\u001b[39;49m\u001b[38;5;124;43mr\u001b[39;49m\u001b[38;5;124;43m\"\u001b[39;49m\u001b[43m)\u001b[49m\n",
      "File \u001b[0;32m/opt/conda/lib/python3.10/site-packages/IPython/core/interactiveshell.py:282\u001b[0m, in \u001b[0;36m_modified_open\u001b[0;34m(file, *args, **kwargs)\u001b[0m\n\u001b[1;32m    275\u001b[0m \u001b[38;5;28;01mif\u001b[39;00m file \u001b[38;5;129;01min\u001b[39;00m {\u001b[38;5;241m0\u001b[39m, \u001b[38;5;241m1\u001b[39m, \u001b[38;5;241m2\u001b[39m}:\n\u001b[1;32m    276\u001b[0m     \u001b[38;5;28;01mraise\u001b[39;00m \u001b[38;5;167;01mValueError\u001b[39;00m(\n\u001b[1;32m    277\u001b[0m         \u001b[38;5;124mf\u001b[39m\u001b[38;5;124m\"\u001b[39m\u001b[38;5;124mIPython won\u001b[39m\u001b[38;5;124m'\u001b[39m\u001b[38;5;124mt let you open fd=\u001b[39m\u001b[38;5;132;01m{\u001b[39;00mfile\u001b[38;5;132;01m}\u001b[39;00m\u001b[38;5;124m by default \u001b[39m\u001b[38;5;124m\"\u001b[39m\n\u001b[1;32m    278\u001b[0m         \u001b[38;5;124m\"\u001b[39m\u001b[38;5;124mas it is likely to crash IPython. If you know what you are doing, \u001b[39m\u001b[38;5;124m\"\u001b[39m\n\u001b[1;32m    279\u001b[0m         \u001b[38;5;124m\"\u001b[39m\u001b[38;5;124myou can use builtins\u001b[39m\u001b[38;5;124m'\u001b[39m\u001b[38;5;124m open.\u001b[39m\u001b[38;5;124m\"\u001b[39m\n\u001b[1;32m    280\u001b[0m     )\n\u001b[0;32m--> 282\u001b[0m \u001b[38;5;28;01mreturn\u001b[39;00m \u001b[43mio_open\u001b[49m\u001b[43m(\u001b[49m\u001b[43mfile\u001b[49m\u001b[43m,\u001b[49m\u001b[43m \u001b[49m\u001b[38;5;241;43m*\u001b[39;49m\u001b[43margs\u001b[49m\u001b[43m,\u001b[49m\u001b[43m \u001b[49m\u001b[38;5;241;43m*\u001b[39;49m\u001b[38;5;241;43m*\u001b[39;49m\u001b[43mkwargs\u001b[49m\u001b[43m)\u001b[49m\n",
      "\u001b[0;31mFileNotFoundError\u001b[0m: [Errno 2] No such file or directory: 'asd.txt'"
     ]
    }
   ],
   "source": [
    "f=open(\"asd.txt\",\"r\")"
   ]
  },
  {
   "cell_type": "code",
   "execution_count": 8,
   "id": "9de6c68a-37c7-49ae-8be8-aee30fa7d6ba",
   "metadata": {},
   "outputs": [
    {
     "data": {
      "text/plain": [
       "'In this case, the FileNotFoundError exception occurred because the file \"example.txt\" does not exist in the directory where the program is\\nrunning. Since the exception was not handled, the program terminated abruptly, and the error message was displayed.\\n\\nIt is generally a good practice to handle exceptions in Python programs to prevent them from crashing and provide useful feedback to users\\nin case something goes wrong.'"
      ]
     },
     "execution_count": 8,
     "metadata": {},
     "output_type": "execute_result"
    }
   ],
   "source": [
    "'''In this case, the FileNotFoundError exception occurred because the file \"example.txt\" does not exist in the directory where the program is\n",
    "running. Since the exception was not handled, the program terminated abruptly, and the error message was displayed.\n",
    "\n",
    "It is generally a good practice to handle exceptions in Python programs to prevent them from crashing and provide useful feedback to users\n",
    "in case something goes wrong.'''"
   ]
  },
  {
   "cell_type": "code",
   "execution_count": 9,
   "id": "35451546-c626-453d-a4c2-874e8451bb07",
   "metadata": {},
   "outputs": [
    {
     "data": {
      "text/plain": [
       "' 3: Which Python Statements are used to catch and handle exceptions? Explain with an example.'"
      ]
     },
     "execution_count": 9,
     "metadata": {},
     "output_type": "execute_result"
    }
   ],
   "source": [
    "''' 3: Which Python Statements are used to catch and handle exceptions? Explain with an example.'''"
   ]
  },
  {
   "cell_type": "code",
   "execution_count": 10,
   "id": "38b94453-39b0-4eca-b5b3-65f3990ac69b",
   "metadata": {},
   "outputs": [
    {
     "data": {
      "text/plain": [
       "\"In Python, exceptions are handled using the try, except, else, and finally statements. Here's a brief explanation of each:\\n\\ntry: The block of code to be executed. This is where you put code that might raise an exception.\\nexcept: Catches and handles exceptions that occur in the try block. You can specify the type of exception to catch.\\nelse: Optional. If no exceptions are raised in the try block, the code in the else block is executed.\\nfinally: Optional. The code in the finally block always executes, regardless of whether an exception was raised or not.\\nIt is often used for cleanup actions.\""
      ]
     },
     "execution_count": 10,
     "metadata": {},
     "output_type": "execute_result"
    }
   ],
   "source": [
    "'''In Python, exceptions are handled using the try, except, else, and finally statements. Here's a brief explanation of each:\n",
    "\n",
    "try: The block of code to be executed. This is where you put code that might raise an exception.\n",
    "except: Catches and handles exceptions that occur in the try block. You can specify the type of exception to catch.\n",
    "else: Optional. If no exceptions are raised in the try block, the code in the else block is executed.\n",
    "finally: Optional. The code in the finally block always executes, regardless of whether an exception was raised or not.\n",
    "It is often used for cleanup actions.'''"
   ]
  },
  {
   "cell_type": "code",
   "execution_count": 11,
   "id": "021d65ce-1558-4bde-8a92-be5e469eff35",
   "metadata": {},
   "outputs": [
    {
     "name": "stdin",
     "output_type": "stream",
     "text": [
      "Enter a number:  566\n"
     ]
    },
    {
     "name": "stdout",
     "output_type": "stream",
     "text": [
      "The result is 0.0176678445229682\n",
      "Execution complete.\n"
     ]
    }
   ],
   "source": [
    "try:\n",
    "    # Code that might raise an exception\n",
    "    num = int(input(\"Enter a number: \"))\n",
    "    result = 10 / num\n",
    "except ValueError:\n",
    "    # Handle the case where input is not an integer\n",
    "    print(\"Invalid input! Please enter a valid number.\")\n",
    "except ZeroDivisionError:\n",
    "    # Handle the case where division by zero occurs\n",
    "    print(\"Error: Division by zero is not allowed.\")\n",
    "else:\n",
    "    # Code to run if no exceptions were raised\n",
    "    print(f\"The result is {result}\")\n",
    "finally:\n",
    "    # Code that always runs, regardless of exceptions\n",
    "    print(\"Execution complete.\")\n"
   ]
  },
  {
   "cell_type": "code",
   "execution_count": 12,
   "id": "9551c710-70b0-401d-8152-0ea8fd4af2b6",
   "metadata": {},
   "outputs": [
    {
     "data": {
      "text/plain": [
       "'4 : Explain with an example:\\nTry and else\\nfinally\\nraise'"
      ]
     },
     "execution_count": 12,
     "metadata": {},
     "output_type": "execute_result"
    }
   ],
   "source": [
    "'''4 : Explain with an example:\n",
    "Try and else\n",
    "finally\n",
    "raise'''"
   ]
  },
  {
   "cell_type": "code",
   "execution_count": 13,
   "id": "7840c07d-fd38-48a4-820d-dcf80afd22b0",
   "metadata": {},
   "outputs": [
    {
     "data": {
      "text/plain": [
       "'try: Contains code that might cause an exception.\\nexcept: Catches and handles exceptions raised in the try block.\\nelse: Runs if no exceptions are raised in the try block.\\nfinally: Executes no matter what, even if an exception was raised or not.\\nraise: Used to explicitly raise an exception.'"
      ]
     },
     "execution_count": 13,
     "metadata": {},
     "output_type": "execute_result"
    }
   ],
   "source": [
    "'''try: Contains code that might cause an exception.\n",
    "except: Catches and handles exceptions raised in the try block.\n",
    "else: Runs if no exceptions are raised in the try block.\n",
    "finally: Executes no matter what, even if an exception was raised or not.\n",
    "raise: Used to explicitly raise an exception.'''"
   ]
  },
  {
   "cell_type": "code",
   "execution_count": 14,
   "id": "6f3dee2f-0a16-476b-b0ad-7d4555770b98",
   "metadata": {},
   "outputs": [
    {
     "name": "stdout",
     "output_type": "stream",
     "text": [
      "The result is 5.0.\n",
      "Execution of divide_numbers complete.\n",
      "Error: Cannot divide by zero.\n",
      "Execution of divide_numbers complete.\n",
      "Error: Invalid input type. Please provide numbers.\n",
      "Execution of divide_numbers complete.\n",
      "Caught an exception: This is a custom error.\n",
      "Execution of main complete.\n"
     ]
    }
   ],
   "source": [
    "def divide_numbers(x, y):\n",
    "    try:\n",
    "        # Code that might raise an exception\n",
    "        result = x / y\n",
    "    except ZeroDivisionError:\n",
    "        # Handle division by zero\n",
    "        print(\"Error: Cannot divide by zero.\")\n",
    "        result = None\n",
    "    except TypeError:\n",
    "        # Handle incorrect types\n",
    "        print(\"Error: Invalid input type. Please provide numbers.\")\n",
    "        result = None\n",
    "    else:\n",
    "        # Runs if no exception was raised\n",
    "        print(f\"The result is {result}.\")\n",
    "    finally:\n",
    "        # Always runs, regardless of whether an exception was raised\n",
    "        print(\"Execution of divide_numbers complete.\")\n",
    "\n",
    "def main():\n",
    "    try:\n",
    "        # Raise an exception for demonstration\n",
    "        raise ValueError(\"This is a custom error.\")\n",
    "    except ValueError as e:\n",
    "        # Handle the custom error\n",
    "        print(f\"Caught an exception: {e}\")\n",
    "    finally:\n",
    "        # Always runs, regardless of whether an exception was caught\n",
    "        print(\"Execution of main complete.\")\n",
    "\n",
    "# Example usage\n",
    "divide_numbers(10, 2)    # Normal case\n",
    "divide_numbers(10, 0)    # Division by zero\n",
    "divide_numbers(10, \"a\")  # Type error\n",
    "\n",
    "main()  # Demonstrates raising and catching a custom exception\n"
   ]
  },
  {
   "cell_type": "code",
   "execution_count": 15,
   "id": "c96dfdd6-0e3d-4c9a-91e5-8db59ebdef53",
   "metadata": {},
   "outputs": [
    {
     "data": {
      "text/plain": [
       "'5 : What are custom Exceptions in python ? Why do we need Custom Exceptions? Explain with an Example.'"
      ]
     },
     "execution_count": 15,
     "metadata": {},
     "output_type": "execute_result"
    }
   ],
   "source": [
    "'''5 : What are custom Exceptions in python ? Why do we need Custom Exceptions? Explain with an Example.'''"
   ]
  },
  {
   "cell_type": "code",
   "execution_count": 16,
   "id": "624c1246-6f43-423d-b615-4e52172aea96",
   "metadata": {},
   "outputs": [
    {
     "data": {
      "text/plain": [
       "\"Custom exceptions in Python are user-defined exception classes that extend the built-in Exception class. They allow you to create\\nspecific error types tailored to your application's needs, making it easier to handle and differentiate errors in a more granular way.\""
      ]
     },
     "execution_count": 16,
     "metadata": {},
     "output_type": "execute_result"
    }
   ],
   "source": [
    "'''Custom exceptions in Python are user-defined exception classes that extend the built-in Exception class. They allow you to create\n",
    "specific error types tailored to your application's needs, making it easier to handle and differentiate errors in a more granular way.'''"
   ]
  },
  {
   "cell_type": "code",
   "execution_count": 17,
   "id": "5a07323b-6bdb-4827-a46a-f72e8d7eb80a",
   "metadata": {},
   "outputs": [
    {
     "name": "stdout",
     "output_type": "stream",
     "text": [
      "User Alice registered successfully.\n",
      "Registration failed: Age must be a positive integer\n",
      "Registration failed: Age must be at least 18\n"
     ]
    }
   ],
   "source": [
    "# Define custom exceptions\n",
    "class InvalidAgeError(Exception):\n",
    "    def __init__(self, message=\"Age must be a positive integer\"):\n",
    "        self.message = message\n",
    "        super().__init__(self.message)\n",
    "\n",
    "class UnderageError(Exception):\n",
    "    def __init__(self, message=\"Age must be at least 18\"):\n",
    "        self.message = message\n",
    "        super().__init__(self.message)\n",
    "\n",
    "def register_user(name, age):\n",
    "    try:\n",
    "        if age < 0:\n",
    "            raise InvalidAgeError()\n",
    "        elif age < 18:\n",
    "            raise UnderageError()\n",
    "        else:\n",
    "            print(f\"User {name} registered successfully.\")\n",
    "    except InvalidAgeError as e:\n",
    "        print(f\"Registration failed: {e}\")\n",
    "    except UnderageError as e:\n",
    "        print(f\"Registration failed: {e}\")\n",
    "\n",
    "# Example usage\n",
    "register_user(\"Alice\", 25)  # Successful registration\n",
    "register_user(\"Bob\", -5)    # Raises InvalidAgeError\n",
    "register_user(\"Charlie\", 16)  # Raises UnderageError\n"
   ]
  },
  {
   "cell_type": "code",
   "execution_count": 18,
   "id": "bc934824-afa7-4dcc-9266-9c5c40a5e558",
   "metadata": {},
   "outputs": [
    {
     "data": {
      "text/plain": [
       "'6 : Create a custom exception class . Use this class to handle exception'"
      ]
     },
     "execution_count": 18,
     "metadata": {},
     "output_type": "execute_result"
    }
   ],
   "source": [
    "'''6 : Create a custom exception class . Use this class to handle exception'''"
   ]
  },
  {
   "cell_type": "code",
   "execution_count": 19,
   "id": "4562b812-4d1b-49d8-adbf-78e820b15c11",
   "metadata": {},
   "outputs": [],
   "source": [
    "class validateage(Exception):\n",
    "    def __init__(self,msg):\n",
    "        self.msg=msg"
   ]
  },
  {
   "cell_type": "code",
   "execution_count": 20,
   "id": "4bc11458-7c1c-451f-9957-27778011d32e",
   "metadata": {},
   "outputs": [
    {
     "name": "stdin",
     "output_type": "stream",
     "text": [
      "enter your age  23\n"
     ]
    },
    {
     "name": "stdout",
     "output_type": "stream",
     "text": [
      "age is valid\n",
      "assignment completed\n"
     ]
    }
   ],
   "source": [
    "def validate_age(age):\n",
    "    if age<0 :\n",
    "        raise validateage(\"age cannot be negative\")\n",
    "        \n",
    "    elif age>120 :\n",
    "        raise validateage(\"age is out of range \")\n",
    "        \n",
    "    else :\n",
    "        raise validateage(\"age is valid\")\n",
    "        \n",
    "try :\n",
    "    age=int(input('enter your age '))\n",
    "    validate_age(age)\n",
    "    \n",
    "except validateage as e :\n",
    "    print(e)\n",
    "    \n",
    "else :\n",
    "    print(validate_age(age))\n",
    "    \n",
    "finally :\n",
    "    print(\"assignment completed\")"
   ]
  },
  {
   "cell_type": "code",
   "execution_count": null,
   "id": "c2dcba8b-ee2d-4458-9e97-27e1d14fafc1",
   "metadata": {},
   "outputs": [],
   "source": []
  }
 ],
 "metadata": {
  "kernelspec": {
   "display_name": "Python 3 (ipykernel)",
   "language": "python",
   "name": "python3"
  },
  "language_info": {
   "codemirror_mode": {
    "name": "ipython",
    "version": 3
   },
   "file_extension": ".py",
   "mimetype": "text/x-python",
   "name": "python",
   "nbconvert_exporter": "python",
   "pygments_lexer": "ipython3",
   "version": "3.10.8"
  }
 },
 "nbformat": 4,
 "nbformat_minor": 5
}
